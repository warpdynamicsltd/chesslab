{
 "cells": [
  {
   "cell_type": "code",
   "execution_count": 139,
   "metadata": {
    "collapsed": true,
    "ExecuteTime": {
     "end_time": "2023-12-29T09:26:03.112335600Z",
     "start_time": "2023-12-29T09:26:01.331729200Z"
    }
   },
   "outputs": [
    {
     "name": "stdout",
     "output_type": "stream",
     "text": [
      "The autoreload extension is already loaded. To reload it, use:\n",
      "  %reload_ext autoreload\n"
     ]
    }
   ],
   "source": [
    "%load_ext autoreload\n",
    "%autoreload 2\n",
    "\n",
    "import subprocess\n",
    "import datetime\n",
    "import matplotlib.pyplot as plt\n",
    "import pandas as pd\n",
    "import chess.pgn\n",
    "from chess import Board, Move, Color\n",
    "from chess.engine import SimpleEngine, Limit, PovScore\n",
    "from chesslab.game_score import GameScore\n",
    "from chesslab.collection import Collection\n",
    "import numpy as np"
   ]
  },
  {
   "cell_type": "code",
   "execution_count": 180,
   "outputs": [],
   "source": [
    "engine = SimpleEngine.popen_uci(\"../engines/stockfish.exe\", creationflags=subprocess.CREATE_NO_WINDOW)"
   ],
   "metadata": {
    "collapsed": false,
    "ExecuteTime": {
     "end_time": "2023-12-29T14:36:55.567925100Z",
     "start_time": "2023-12-29T14:36:54.335926900Z"
    }
   }
  },
  {
   "cell_type": "code",
   "execution_count": 236,
   "outputs": [],
   "source": [
    "collection = Collection(\"../data/player.pgn\")"
   ],
   "metadata": {
    "collapsed": false,
    "ExecuteTime": {
     "end_time": "2023-12-30T16:18:18.808708300Z",
     "start_time": "2023-12-30T16:18:18.236706Z"
    }
   }
  },
  {
   "cell_type": "code",
   "execution_count": 223,
   "outputs": [
    {
     "name": "stdout",
     "output_type": "stream",
     "text": [
      "game 1\n",
      ".....................................................................................\n",
      "118 sec\n",
      "game 2\n",
      "..............................................\n",
      "185 sec\n",
      "game 3\n",
      "..........................................\n",
      "249 sec\n",
      "game 4\n",
      ".............................................................................................................................................................\n",
      "464 sec\n",
      "game 5\n",
      "..............................................................................................................\n",
      "630 sec\n",
      "game 6\n",
      "......................................................................................\n",
      "759 sec\n",
      "game 7\n",
      "..................................................\n",
      "830 sec\n",
      "game 8\n",
      ".....................................\n",
      "877 sec\n",
      "game 9\n",
      "............................\n",
      "920 sec\n",
      "game 10\n",
      "....................................................\n",
      "989 sec\n",
      "game 11\n",
      "....................................................\n",
      "1068 sec\n",
      "game 12\n",
      "....................................................\n",
      "1144 sec\n",
      "game 13\n",
      ".............................................................................................................................................\n",
      "1339 sec\n",
      "game 14\n",
      ".................................\n",
      "1381 sec\n",
      "game 15\n",
      ".......................................................................................\n",
      "1513 sec\n",
      "game 16\n",
      "......................................................................\n",
      "1619 sec\n",
      "game 17\n",
      ".......................\n",
      "1654 sec\n",
      "game 18\n",
      ".......................................\n",
      "1714 sec\n",
      "game 19\n",
      "..........................................\n",
      "1778 sec\n",
      "game 20\n",
      ".......................................................\n",
      "1854 sec\n",
      "game 21\n",
      "...............................\n",
      "1901 sec\n",
      "game 22\n",
      "........................................................................................\n",
      "2034 sec\n",
      "game 23\n",
      "....................................................\n",
      "2113 sec\n",
      "game 24\n",
      ".....................................\n",
      "2169 sec\n",
      "game 25\n",
      ".......................................................\n",
      "2253 sec\n",
      "game 26\n",
      "........................................................................\n",
      "2362 sec\n",
      "game 27\n",
      "...........................\n",
      "2403 sec\n",
      "game 28\n",
      ".....................................................................................\n",
      "2519 sec\n",
      "game 29\n",
      "...................................\n",
      "2571 sec\n",
      "game 30\n",
      ".............................\n",
      "2613 sec\n",
      "game 31\n",
      ".....................................\n",
      "2667 sec\n",
      "game 32\n",
      ".........................................................\n",
      "2752 sec\n",
      "game 33\n",
      ".....................................................................\n",
      "2851 sec\n",
      "game 34\n",
      "......................................................................................................................\n",
      "3011 sec\n",
      "game 35\n",
      ".................................................................................................................................................\n",
      "3220 sec\n",
      "game 36\n",
      ".........................................................\n",
      "3306 sec\n",
      "game 37\n",
      ".................................................................\n",
      "3405 sec\n",
      "game 38\n",
      "..........................................\n",
      "3469 sec\n",
      "game 39\n",
      "...........................................................................................\n",
      "3606 sec\n",
      "game 40\n",
      "......................................................\n",
      "3688 sec\n",
      "game 41\n",
      "...............................................\n",
      "3760 sec\n",
      "game 42\n",
      "..........................................\n",
      "3819 sec\n",
      "game 43\n",
      ".............................................................................................................\n",
      "3983 sec\n",
      "game 44\n",
      ".............................................................\n",
      "4066 sec\n",
      "game 45\n",
      "............................................................................\n",
      "4177 sec\n",
      "game 46\n",
      ".......................................................................................................\n",
      "4333 sec\n",
      "game 47\n",
      "...................................................\n",
      "4410 sec\n",
      "game 48\n",
      "............................................................\n",
      "4501 sec\n",
      "game 49\n",
      ".......................................\n",
      "4560 sec\n",
      "game 50\n",
      ".............................................\n",
      "4629 sec\n",
      "game 51\n",
      "..........................................................................\n",
      "4741 sec\n",
      "game 52\n",
      "...............................................................................\n",
      "4859 sec\n",
      "game 53\n",
      "..................................................................\n",
      "4959 sec\n",
      "game 54\n",
      ".................................................\n",
      "5033 sec\n",
      "game 55\n",
      "..............................................\n",
      "5103 sec\n",
      "game 56\n",
      "...........................................................................\n",
      "5217 sec\n",
      "game 57\n",
      "...................................................................\n",
      "5318 sec\n",
      "game 58\n",
      "..................................................................................\n",
      "5443 sec\n",
      "game 59\n",
      "..............................................................\n",
      "5537 sec\n",
      "game 60\n",
      "..........................................\n",
      "5601 sec\n",
      "game 61\n",
      "...................................................................\n",
      "5693 sec\n",
      "game 62\n",
      ".........................\n",
      "5731 sec\n",
      "game 63\n",
      "...............\n",
      "5754 sec\n",
      "game 64\n",
      "............................................................................\n",
      "5860 sec\n",
      "game 65\n",
      "........................................................................................\n",
      "5994 sec\n",
      "game 66\n",
      "............................................................................................\n",
      "6125 sec\n",
      "game 67\n",
      "........................................................\n",
      "6201 sec\n",
      "game 68\n",
      "..............................................................\n",
      "6295 sec\n",
      "game 69\n",
      "..........................................................................\n",
      "6394 sec\n",
      "game 70\n",
      ".............................................................................................................................\n",
      "6570 sec\n",
      "game 71\n",
      "...............................................................\n",
      "6656 sec\n",
      "game 72\n",
      "......................................................................................................................................................\n",
      "6882 sec\n",
      "game 73\n",
      "...............................................................\n",
      "6970 sec\n",
      "game 74\n",
      ".............................................................\n",
      "7060 sec\n",
      "game 75\n",
      "..................................................................\n",
      "7159 sec\n",
      "game 76\n",
      "..................................................................................................\n",
      "7297 sec\n",
      "game 77\n",
      ".............................................................................................................................\n",
      "7478 sec\n",
      "game 78\n",
      "..................................................................\n",
      "7579 sec\n",
      "game 79\n",
      "................................................................................................................................................................\n",
      "7812 sec\n",
      "game 80\n",
      ".........................\n",
      "7850 sec\n",
      "game 81\n",
      "................................\n",
      "7899 sec\n",
      "game 82\n",
      "......................................................................................................\n",
      "8032 sec\n",
      "game 83\n",
      "....................................................\n",
      "8111 sec\n",
      "game 84\n",
      "..................................................\n",
      "8187 sec\n",
      "game 85\n",
      "........................................................................\n",
      "8291 sec\n",
      "game 86\n",
      ".....................................................\n",
      "8372 sec\n",
      "game 87\n",
      "................................\n",
      "8421 sec\n",
      "game 88\n",
      ".................................................................................\n",
      "8534 sec\n",
      "game 89\n",
      "............................................................................\n",
      "8645 sec\n",
      "game 90\n",
      "...............................................................................................\n",
      "8779 sec\n",
      "game 91\n",
      ".............................................................\n",
      "8871 sec\n",
      "game 92\n",
      "......................................................................................................\n",
      "9011 sec\n",
      "game 93\n",
      "...........................................................................................................................................................................\n",
      "9247 sec\n",
      "game 94\n",
      "............................................................................\n",
      "9349 sec\n",
      "game 95\n",
      "...........................\n",
      "9390 sec\n",
      "game 96\n",
      "................................................................................................................................\n",
      "9571 sec\n",
      "game 97\n",
      "........................................................................\n",
      "9680 sec\n",
      "game 98\n",
      "............................................................................................\n",
      "9815 sec\n",
      "game 99\n",
      "...........................................................\n",
      "9904 sec\n",
      "game 100\n",
      "...................................\n",
      "9956 sec\n",
      "game 101\n",
      "..................................................................................................\n",
      "10093 sec\n",
      "game 102\n",
      "...................................................................................\n",
      "10210 sec\n",
      "game 103\n",
      "...............................................................................................\n",
      "10354 sec\n",
      "game 104\n",
      "..........................................\n",
      "10418 sec\n",
      "game 105\n",
      "............................................................................................................\n",
      "10570 sec\n",
      "game 106\n",
      "......................................................\n",
      "10652 sec\n",
      "game 107\n",
      ".......................................................................................\n",
      "10784 sec\n",
      "game 108\n",
      "..................................................................\n",
      "10885 sec\n",
      "game 109\n",
      ".......................................\n",
      "10944 sec\n",
      "game 110\n",
      "......................................................................................................................................\n",
      "11121 sec\n",
      "game 111\n",
      "...............................................\n",
      "11192 sec\n",
      "game 112\n",
      ".................................................................\n",
      "11283 sec\n",
      "game 113\n",
      ".................................\n",
      "11327 sec\n",
      "game 114\n",
      ".......................................................................................................\n",
      "11471 sec\n",
      "game 115\n",
      "...............................................\n",
      "11538 sec\n",
      "game 116\n",
      "...............................................\n",
      "11602 sec\n",
      "game 117\n",
      ".............................................\n",
      "11670 sec\n",
      "game 118\n",
      "...................................................................................\n",
      "11796 sec\n",
      "game 119\n",
      ".........................................................\n",
      "11881 sec\n",
      "game 120\n",
      ".........................\n",
      "11920 sec\n",
      "game 121\n",
      ".......................................................................................\n",
      "12051 sec\n"
     ]
    }
   ],
   "source": [
    "collection.compute_scores_and_save(engine, overwrite=True)"
   ],
   "metadata": {
    "collapsed": false,
    "ExecuteTime": {
     "end_time": "2023-12-30T00:07:22.023429100Z",
     "start_time": "2023-12-29T20:46:30.553395700Z"
    }
   }
  },
  {
   "cell_type": "code",
   "execution_count": 237,
   "outputs": [
    {
     "data": {
      "text/plain": "125"
     },
     "execution_count": 237,
     "metadata": {},
     "output_type": "execute_result"
    }
   ],
   "source": [
    "len(collection.games)"
   ],
   "metadata": {
    "collapsed": false,
    "ExecuteTime": {
     "end_time": "2023-12-30T16:18:23.059706Z",
     "start_time": "2023-12-30T16:18:22.944706900Z"
    }
   }
  },
  {
   "cell_type": "code",
   "execution_count": 238,
   "outputs": [],
   "source": [
    "seq = []\n",
    "# user = \"Magnus Carlsen\"\n",
    "user = \"Player\"\n",
    "for game in collection.games:\n",
    "    score = None\n",
    "    if game.headers['White'] == user:\n",
    "        score = float(game.headers['WhiteScore'])\n",
    "    if game.headers['Black'] == user:\n",
    "        score = float(game.headers['BlackScore'])\n",
    "    if score is None:\n",
    "        print(game.headers['White'], game.headers['Black'])\n",
    "        continue\n",
    "\n",
    "    date = datetime.datetime.strptime(game.headers['Date'], '%Y.%m.%d')\n",
    "    seq.append((date, score))\n",
    "\n",
    "seq.sort(key=lambda k:k[0])"
   ],
   "metadata": {
    "collapsed": false,
    "ExecuteTime": {
     "end_time": "2023-12-30T16:18:31.962705900Z",
     "start_time": "2023-12-30T16:18:31.756709500Z"
    }
   }
  },
  {
   "cell_type": "code",
   "execution_count": 239,
   "outputs": [],
   "source": [
    "df = pd.DataFrame(seq, columns=['date', 'score'])\n",
    "df.set_index('date', inplace=True)"
   ],
   "metadata": {
    "collapsed": false,
    "ExecuteTime": {
     "end_time": "2023-12-30T16:18:37.382708300Z",
     "start_time": "2023-12-30T16:18:37.258706900Z"
    }
   }
  },
  {
   "cell_type": "code",
   "execution_count": 197,
   "outputs": [],
   "source": [
    "df_chosen = df[df.score > -100]"
   ],
   "metadata": {
    "collapsed": false,
    "ExecuteTime": {
     "end_time": "2023-12-29T14:40:21.319687600Z",
     "start_time": "2023-12-29T14:40:21.192668900Z"
    }
   }
  },
  {
   "cell_type": "code",
   "execution_count": 240,
   "outputs": [
    {
     "data": {
      "text/plain": "125"
     },
     "execution_count": 240,
     "metadata": {},
     "output_type": "execute_result"
    }
   ],
   "source": [
    "len(df)"
   ],
   "metadata": {
    "collapsed": false,
    "ExecuteTime": {
     "end_time": "2023-12-30T16:18:41.471885100Z",
     "start_time": "2023-12-30T16:18:41.357887800Z"
    }
   }
  },
  {
   "cell_type": "code",
   "execution_count": 209,
   "outputs": [
    {
     "data": {
      "text/plain": "             score\ndate              \n2023-08-23  -45.49\n2023-08-24  -19.83\n2023-08-28  -71.48\n2023-08-28  -53.27\n2023-08-28 -107.38\n...            ...\n2023-12-27  -15.88\n2023-12-27  -52.22\n2023-12-28 -104.29\n2023-12-28  -69.86\n2023-12-28  -22.63\n\n[118 rows x 1 columns]",
      "text/html": "<div>\n<style scoped>\n    .dataframe tbody tr th:only-of-type {\n        vertical-align: middle;\n    }\n\n    .dataframe tbody tr th {\n        vertical-align: top;\n    }\n\n    .dataframe thead th {\n        text-align: right;\n    }\n</style>\n<table border=\"1\" class=\"dataframe\">\n  <thead>\n    <tr style=\"text-align: right;\">\n      <th></th>\n      <th>score</th>\n    </tr>\n    <tr>\n      <th>date</th>\n      <th></th>\n    </tr>\n  </thead>\n  <tbody>\n    <tr>\n      <th>2023-08-23</th>\n      <td>-45.49</td>\n    </tr>\n    <tr>\n      <th>2023-08-24</th>\n      <td>-19.83</td>\n    </tr>\n    <tr>\n      <th>2023-08-28</th>\n      <td>-71.48</td>\n    </tr>\n    <tr>\n      <th>2023-08-28</th>\n      <td>-53.27</td>\n    </tr>\n    <tr>\n      <th>2023-08-28</th>\n      <td>-107.38</td>\n    </tr>\n    <tr>\n      <th>...</th>\n      <td>...</td>\n    </tr>\n    <tr>\n      <th>2023-12-27</th>\n      <td>-15.88</td>\n    </tr>\n    <tr>\n      <th>2023-12-27</th>\n      <td>-52.22</td>\n    </tr>\n    <tr>\n      <th>2023-12-28</th>\n      <td>-104.29</td>\n    </tr>\n    <tr>\n      <th>2023-12-28</th>\n      <td>-69.86</td>\n    </tr>\n    <tr>\n      <th>2023-12-28</th>\n      <td>-22.63</td>\n    </tr>\n  </tbody>\n</table>\n<p>118 rows × 1 columns</p>\n</div>"
     },
     "execution_count": 209,
     "metadata": {},
     "output_type": "execute_result"
    }
   ],
   "source": [
    "df"
   ],
   "metadata": {
    "collapsed": false,
    "ExecuteTime": {
     "end_time": "2023-12-29T15:26:37.623745400Z",
     "start_time": "2023-12-29T15:26:37.503744Z"
    }
   }
  },
  {
   "cell_type": "code",
   "execution_count": 241,
   "outputs": [],
   "source": [
    "average = df_chosen.resample('M').mean()"
   ],
   "metadata": {
    "collapsed": false,
    "ExecuteTime": {
     "end_time": "2023-12-30T16:18:47.279885800Z",
     "start_time": "2023-12-30T16:18:47.153886900Z"
    }
   }
  },
  {
   "cell_type": "code",
   "execution_count": 242,
   "outputs": [
    {
     "data": {
      "text/plain": "                score\ndate                 \n2023-08-31 -48.861429\n2023-09-30 -44.868000\n2023-10-31 -43.695000\n2023-11-30 -51.082353\n2023-12-31 -49.328919",
      "text/html": "<div>\n<style scoped>\n    .dataframe tbody tr th:only-of-type {\n        vertical-align: middle;\n    }\n\n    .dataframe tbody tr th {\n        vertical-align: top;\n    }\n\n    .dataframe thead th {\n        text-align: right;\n    }\n</style>\n<table border=\"1\" class=\"dataframe\">\n  <thead>\n    <tr style=\"text-align: right;\">\n      <th></th>\n      <th>score</th>\n    </tr>\n    <tr>\n      <th>date</th>\n      <th></th>\n    </tr>\n  </thead>\n  <tbody>\n    <tr>\n      <th>2023-08-31</th>\n      <td>-48.861429</td>\n    </tr>\n    <tr>\n      <th>2023-09-30</th>\n      <td>-44.868000</td>\n    </tr>\n    <tr>\n      <th>2023-10-31</th>\n      <td>-43.695000</td>\n    </tr>\n    <tr>\n      <th>2023-11-30</th>\n      <td>-51.082353</td>\n    </tr>\n    <tr>\n      <th>2023-12-31</th>\n      <td>-49.328919</td>\n    </tr>\n  </tbody>\n</table>\n</div>"
     },
     "execution_count": 242,
     "metadata": {},
     "output_type": "execute_result"
    }
   ],
   "source": [
    "average.dropna(inplace=True)\n",
    "average"
   ],
   "metadata": {
    "collapsed": false,
    "ExecuteTime": {
     "end_time": "2023-12-30T16:18:50.564886400Z",
     "start_time": "2023-12-30T16:18:50.445888Z"
    }
   }
  },
  {
   "cell_type": "code",
   "execution_count": 132,
   "outputs": [],
   "source": [
    "x, y = zip(*seq)"
   ],
   "metadata": {
    "collapsed": false,
    "ExecuteTime": {
     "end_time": "2023-12-29T09:18:02.281378500Z",
     "start_time": "2023-12-29T09:18:02.197385Z"
    }
   }
  },
  {
   "cell_type": "code",
   "execution_count": 227,
   "outputs": [
    {
     "data": {
      "text/plain": "[<matplotlib.lines.Line2D at 0x24b234a0a30>]"
     },
     "execution_count": 227,
     "metadata": {},
     "output_type": "execute_result"
    },
    {
     "data": {
      "text/plain": "<Figure size 2000x800 with 1 Axes>",
      "image/png": "[encoded data removed]"
     },
     "metadata": {},
     "output_type": "display_data"
    }
   ],
   "source": [
    "plt.figure(figsize=(20,8))\n",
    "plt.plot(df.index, df['score'], 'o')\n",
    "#plt.plot(average.index, average['score'], '-')"
   ],
   "metadata": {
    "collapsed": false,
    "ExecuteTime": {
     "end_time": "2023-12-30T00:09:13.494337500Z",
     "start_time": "2023-12-30T00:09:12.778643900Z"
    }
   }
  },
  {
   "cell_type": "code",
   "execution_count": 235,
   "outputs": [
    {
     "data": {
      "text/plain": "[<matplotlib.lines.Line2D at 0x24b23ab9970>]"
     },
     "execution_count": 235,
     "metadata": {},
     "output_type": "execute_result"
    },
    {
     "data": {
      "text/plain": "<Figure size 2000x800 with 1 Axes>",
      "image/png": "[encoded data removed]"
     },
     "metadata": {},
     "output_type": "display_data"
    }
   ],
   "source": [
    "plt.figure(figsize=(20,8))\n",
    "plt.plot(average.index, average['score'], '-')"
   ],
   "metadata": {
    "collapsed": false,
    "ExecuteTime": {
     "end_time": "2023-12-30T12:51:39.334454700Z",
     "start_time": "2023-12-30T12:51:38.868459500Z"
    }
   }
  },
  {
   "cell_type": "code",
   "execution_count": 152,
   "outputs": [],
   "source": [
    "from chesslab.game_score import GameScore"
   ],
   "metadata": {
    "collapsed": false,
    "ExecuteTime": {
     "end_time": "2023-12-29T09:40:31.333014700Z",
     "start_time": "2023-12-29T09:40:31.230989600Z"
    }
   }
  },
  {
   "cell_type": "code",
   "execution_count": 160,
   "outputs": [],
   "source": [
    "gs = GameScore(collection.games[1], engine, Limit(time=0.5))"
   ],
   "metadata": {
    "collapsed": false,
    "ExecuteTime": {
     "end_time": "2023-12-29T10:03:49.746908400Z",
     "start_time": "2023-12-29T10:03:49.636888100Z"
    }
   }
  },
  {
   "cell_type": "code",
   "execution_count": 161,
   "outputs": [
    {
     "name": "stdout",
     "output_type": "stream",
     "text": [
      ".............................................................................................................................................................\n"
     ]
    },
    {
     "data": {
      "text/plain": "{'white': -47.12658227848101, 'black': -130.01282051282053}"
     },
     "execution_count": 161,
     "metadata": {},
     "output_type": "execute_result"
    }
   ],
   "source": [
    "gs.score()"
   ],
   "metadata": {
    "collapsed": false,
    "ExecuteTime": {
     "end_time": "2023-12-29T10:07:24.534115Z",
     "start_time": "2023-12-29T10:03:50.742745400Z"
    }
   }
  },
  {
   "cell_type": "code",
   "execution_count": null,
   "outputs": [],
   "source": [],
   "metadata": {
    "collapsed": false
   }
  }
 ],
 "metadata": {
  "kernelspec": {
   "display_name": "Python 3",
   "language": "python",
   "name": "python3"
  },
  "language_info": {
   "codemirror_mode": {
    "name": "ipython",
    "version": 2
   },
   "file_extension": ".py",
   "mimetype": "text/x-python",
   "name": "python",
   "nbconvert_exporter": "python",
   "pygments_lexer": "ipython2",
   "version": "2.7.6"
  }
 },
 "nbformat": 4,
 "nbformat_minor": 0
}
