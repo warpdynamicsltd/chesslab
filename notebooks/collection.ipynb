{
 "cells": [
  {
   "cell_type": "code",
   "execution_count": 1,
   "metadata": {
    "collapsed": true,
    "ExecuteTime": {
     "end_time": "2024-01-25T01:08:56.235907800Z",
     "start_time": "2024-01-25T01:08:54.267563100Z"
    }
   },
   "outputs": [],
   "source": [
    "%load_ext autoreload\n",
    "%autoreload 2\n",
    "\n",
    "import io\n",
    "import subprocess\n",
    "import datetime\n",
    "import matplotlib.pyplot as plt\n",
    "import pandas as pd\n",
    "import chess.pgn\n",
    "from chess import Board, Move, Color\n",
    "from chess.engine import SimpleEngine, Limit, PovScore\n",
    "from chesslab.game_score import GameScore\n",
    "from chesslab.collection import Collection"
   ]
  },
  {
   "cell_type": "code",
   "execution_count": 2,
   "outputs": [],
   "source": [
    "engine = SimpleEngine.popen_uci(\"../engines/stockfish.exe\", creationflags=subprocess.CREATE_NO_WINDOW)"
   ],
   "metadata": {
    "collapsed": false,
    "ExecuteTime": {
     "end_time": "2024-01-25T01:08:58.611714300Z",
     "start_time": "2024-01-25T01:08:58.274731600Z"
    }
   }
  },
  {
   "cell_type": "code",
   "execution_count": 3,
   "outputs": [],
   "source": [
    "# New game\n",
    "\n",
    "pgn_string = \"\"\"\n",
    "[Event \"Computer chess game\"]\n",
    "[Site \"Computer\"]\n",
    "[Date \"2024.01.25\"]\n",
    "[Round \"?\"]\n",
    "[White \"Player\"]\n",
    "[Black \"Stockfish minimal nodes\"]\n",
    "[Result \"1-0\"]\n",
    "[Time \"01:08:05\"]\n",
    "[WhiteType \"human\"]\n",
    "[BlackType \"program\"]\n",
    "\n",
    "1. d4 b6 2. Bf4 e6 3. Nf3 Nf6 4. e3 Bb7 5. Be2 Bb4+ 6. c3 Be7 7. Nbd2 O-O 8.\n",
    "O-O c5 9. Rc1 d5 10. Ne5 Nc6 11. Ndf3 Nxe5 12. Nxe5 Bd6 13. Bg3 Ne4 14. Bd3 f6\n",
    "15. Bxe4 dxe4 16. Nc4 Be7 17. Nd2 Qd7 18. Qg4 cxd4 19. cxd4 Qd5 20. a3 h5 21.\n",
    "Qg6 Rac8 22. Bf4 Ba6 23. Bh6 Rf7 24. Rxc8+ Bxc8 25. Bxg7 Rxg7 26. Qe8+ Kh7 27.\n",
    "Qxc8 f5 28. Rc1 f4 29. Qc6 f3 30. g3 h4 31. Qxd5 exd5 32. Rc7 Bd6 33. Rxg7+\n",
    "Kxg7 34. Nb1 b5 35. Nc3 b4 36. Nxd5 bxa3 37. bxa3 Bxa3 38. Nc3 hxg3 39. hxg3 a5\n",
    "40. Nxe4 Bb4 41. d5 a4 42. d6 Kf8 43. Nf6 a3 44. d7 Ke7 45. Nd5+ Kxd7 46. Nxb4\n",
    "Kd6 47. Nc2 a2 48. Kf1 Kc5 49. Ke1 Kc4 50. Kd2 Kb3 51. g4 Kb2 52. g5 Kb3 53. g6\n",
    "Kb2 54. g7 Kb3 55. g8=Q+ Kb2 56. Qb8# 1-0\n",
    "\"\"\""
   ],
   "metadata": {
    "collapsed": false,
    "ExecuteTime": {
     "end_time": "2024-01-25T01:09:01.241696800Z",
     "start_time": "2024-01-25T01:09:01.120981600Z"
    }
   }
  },
  {
   "cell_type": "code",
   "execution_count": 4,
   "outputs": [],
   "source": [
    "# Load Collection\n",
    "\n",
    "collection = Collection(\"../data/player.pgn\")"
   ],
   "metadata": {
    "collapsed": false,
    "ExecuteTime": {
     "end_time": "2024-01-25T01:09:05.343120Z",
     "start_time": "2024-01-25T01:09:04.664165300Z"
    }
   }
  },
  {
   "cell_type": "code",
   "execution_count": 19,
   "outputs": [],
   "source": [
    "# Removing comments and variants\n",
    "\n",
    "collection.remove_comments_and_variations()\n",
    "collection.save()"
   ],
   "metadata": {
    "collapsed": false,
    "ExecuteTime": {
     "end_time": "2023-12-29T15:21:10.405198300Z",
     "start_time": "2023-12-29T15:21:09.783197700Z"
    }
   }
  },
  {
   "cell_type": "code",
   "execution_count": 20,
   "outputs": [],
   "source": [
    "# Sorting Collection\n",
    "\n",
    "collection.sort()\n",
    "collection.save()"
   ],
   "metadata": {
    "collapsed": false,
    "ExecuteTime": {
     "end_time": "2023-12-29T15:23:43.677221Z",
     "start_time": "2023-12-29T15:23:42.974200Z"
    }
   }
  },
  {
   "cell_type": "code",
   "execution_count": 5,
   "outputs": [
    {
     "name": "stdout",
     "output_type": "stream",
     "text": [
      "game 149\n",
      "...............................................................................................................\n",
      "166 sec\n"
     ]
    }
   ],
   "source": [
    "# Adding game\n",
    "pgn_stream = io.StringIO(pgn_string)\n",
    "game = chess.pgn.read_game(pgn_stream)\n",
    "game = collection.remove_comments_and_variations_for_game(game)\n",
    "collection.add_game(game)\n",
    "collection.compute_scores_and_save(engine)"
   ],
   "metadata": {
    "collapsed": false,
    "ExecuteTime": {
     "end_time": "2024-01-25T01:11:55.810822200Z",
     "start_time": "2024-01-25T01:09:09.628048Z"
    }
   }
  },
  {
   "cell_type": "code",
   "execution_count": null,
   "outputs": [],
   "source": [],
   "metadata": {
    "collapsed": false
   }
  }
 ],
 "metadata": {
  "kernelspec": {
   "display_name": "Python 3",
   "language": "python",
   "name": "python3"
  },
  "language_info": {
   "codemirror_mode": {
    "name": "ipython",
    "version": 2
   },
   "file_extension": ".py",
   "mimetype": "text/x-python",
   "name": "python",
   "nbconvert_exporter": "python",
   "pygments_lexer": "ipython2",
   "version": "2.7.6"
  }
 },
 "nbformat": 4,
 "nbformat_minor": 0
}
