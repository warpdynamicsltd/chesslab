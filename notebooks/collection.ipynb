{
 "cells": [
  {
   "cell_type": "code",
   "execution_count": 1,
   "metadata": {
    "collapsed": true,
    "ExecuteTime": {
     "end_time": "2024-01-07T22:23:50.229563100Z",
     "start_time": "2024-01-07T22:23:47.812485100Z"
    }
   },
   "outputs": [],
   "source": [
    "%load_ext autoreload\n",
    "%autoreload 2\n",
    "\n",
    "import io\n",
    "import subprocess\n",
    "import datetime\n",
    "import matplotlib.pyplot as plt\n",
    "import pandas as pd\n",
    "import chess.pgn\n",
    "from chess import Board, Move, Color\n",
    "from chess.engine import SimpleEngine, Limit, PovScore\n",
    "from chesslab.game_score import GameScore\n",
    "from chesslab.collection import Collection"
   ]
  },
  {
   "cell_type": "code",
   "execution_count": 2,
   "outputs": [],
   "source": [
    "engine = SimpleEngine.popen_uci(\"../engines/stockfish.exe\", creationflags=subprocess.CREATE_NO_WINDOW)"
   ],
   "metadata": {
    "collapsed": false,
    "ExecuteTime": {
     "end_time": "2024-01-07T22:23:51.774289900Z",
     "start_time": "2024-01-07T22:23:51.387615100Z"
    }
   }
  },
  {
   "cell_type": "code",
   "execution_count": 6,
   "outputs": [],
   "source": [
    "# New game\n",
    "\n",
    "pgn_string = \"\"\"\n",
    "[Event \"Computer chess game\"]\n",
    "[Site \"Computer\"]\n",
    "[Date \"2024.01.09\"]\n",
    "[Round \"?\"]\n",
    "[White \"Fidelity SC9-D Sensory Chess Challenger 9-D\"]\n",
    "[Black \"Player\"]\n",
    "[Result \"1-0\"]\n",
    "[Time \"00:53:04\"]\n",
    "[Termination \"normal\"]\n",
    "[PlyCount \"105\"]\n",
    "[WhiteType \"program\"]\n",
    "[BlackType \"human\"]\n",
    "\n",
    "1. d4 d5 2. c4 e6 3. Nc3 Nf6 4. Bg5 Bb4 5. cxd5 exd5 6. Qd3 Bxc3+ 7. Qxc3\n",
    "c6 8. Nf3 h6 9. Bxf6 Qxf6 10. Qe3+ Qe6 11. Qxe6+ Bxe6 12. e3 Bf5 13. Rd1\n",
    "Nd7 14. Bd3 Bxd3 15. Rxd3 O-O-O 16. Ke2 f6 17. Ra3 Kb8 18. Kd3 Nb6 19. Nd2\n",
    "Rhe8 20. f3 g5 21. g4 Rf8 22. e4 dxe4+ 23. fxe4 Rh8 24. Rc1 Rc8 25. Ra5 h5\n",
    "26. Rf1 Nd7 27. gxh5 Rxh5 28. Rf2 Rch8 29. Nf1 Rh3+ 30. Kd2 Nb6 31. Kc2 Nc4\n",
    "32. Rc5 Ne3+ 33. Nxe3 Rxe3 34. e5 fxe5 35. Rxe5 Reh3 36. Rxg5 Rxh2 37. Rxh2\n",
    "Rxh2+ 38. Kc3 b5 39. Rg7 Rh8 40. Kb4 Rc8 41. Kc5 Rc7 42. Rg6 Kb7 43. Re6\n",
    "Rc8 44. Re3 Kc7 45. Re7+ Kb8 46. Kd6 Ka8 47. Rc7 Rxc7 48. Kxc7 a6 49. Kxc6\n",
    "Ka7 50. Kc7 a5 51. d5 a4 52. d6 b4 53. d7 {Black resigns} 1-0\n",
    "\"\"\""
   ],
   "metadata": {
    "collapsed": false,
    "ExecuteTime": {
     "end_time": "2024-01-09T01:41:47.311225600Z",
     "start_time": "2024-01-09T01:41:47.191225800Z"
    }
   }
  },
  {
   "cell_type": "code",
   "execution_count": 7,
   "outputs": [],
   "source": [
    "# Load Collection\n",
    "\n",
    "collection = Collection(\"../data/player.pgn\")"
   ],
   "metadata": {
    "collapsed": false,
    "ExecuteTime": {
     "end_time": "2024-01-09T01:41:52.580228300Z",
     "start_time": "2024-01-09T01:41:51.937230200Z"
    }
   }
  },
  {
   "cell_type": "code",
   "execution_count": 19,
   "outputs": [],
   "source": [
    "# Removing comments and variants\n",
    "\n",
    "collection.remove_comments_and_variations()\n",
    "collection.save()"
   ],
   "metadata": {
    "collapsed": false,
    "ExecuteTime": {
     "end_time": "2023-12-29T15:21:10.405198300Z",
     "start_time": "2023-12-29T15:21:09.783197700Z"
    }
   }
  },
  {
   "cell_type": "code",
   "execution_count": 20,
   "outputs": [],
   "source": [
    "# Sorting Collection\n",
    "\n",
    "collection.sort()\n",
    "collection.save()"
   ],
   "metadata": {
    "collapsed": false,
    "ExecuteTime": {
     "end_time": "2023-12-29T15:23:43.677221Z",
     "start_time": "2023-12-29T15:23:42.974200Z"
    }
   }
  },
  {
   "cell_type": "code",
   "execution_count": 8,
   "outputs": [
    {
     "name": "stdout",
     "output_type": "stream",
     "text": [
      "game 139\n",
      ".........................................................................................................\n",
      "154 sec\n"
     ]
    }
   ],
   "source": [
    "# Adding game\n",
    "pgn_stream = io.StringIO(pgn_string)\n",
    "game = chess.pgn.read_game(pgn_stream)\n",
    "game = collection.remove_comments_and_variations_for_game(game)\n",
    "collection.add_game(game)\n",
    "collection.compute_scores_and_save(engine)"
   ],
   "metadata": {
    "collapsed": false,
    "ExecuteTime": {
     "end_time": "2024-01-09T01:44:29.072437800Z",
     "start_time": "2024-01-09T01:41:55.437238600Z"
    }
   }
  },
  {
   "cell_type": "code",
   "execution_count": null,
   "outputs": [],
   "source": [],
   "metadata": {
    "collapsed": false
   }
  }
 ],
 "metadata": {
  "kernelspec": {
   "display_name": "Python 3",
   "language": "python",
   "name": "python3"
  },
  "language_info": {
   "codemirror_mode": {
    "name": "ipython",
    "version": 2
   },
   "file_extension": ".py",
   "mimetype": "text/x-python",
   "name": "python",
   "nbconvert_exporter": "python",
   "pygments_lexer": "ipython2",
   "version": "2.7.6"
  }
 },
 "nbformat": 4,
 "nbformat_minor": 0
}
