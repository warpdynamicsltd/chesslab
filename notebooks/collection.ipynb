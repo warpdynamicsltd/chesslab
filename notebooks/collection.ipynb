{
 "cells": [
  {
   "cell_type": "code",
   "execution_count": 1,
   "metadata": {
    "collapsed": true,
    "ExecuteTime": {
     "end_time": "2024-01-25T01:08:56.235907800Z",
     "start_time": "2024-01-25T01:08:54.267563100Z"
    }
   },
   "outputs": [],
   "source": [
    "%load_ext autoreload\n",
    "%autoreload 2\n",
    "\n",
    "import io\n",
    "import subprocess\n",
    "import datetime\n",
    "import matplotlib.pyplot as plt\n",
    "import pandas as pd\n",
    "import chess.pgn\n",
    "from chess import Board, Move, Color\n",
    "from chess.engine import SimpleEngine, Limit, PovScore\n",
    "from chesslab.game_score import GameScore\n",
    "from chesslab.collection import Collection"
   ]
  },
  {
   "cell_type": "code",
   "execution_count": 2,
   "outputs": [],
   "source": [
    "engine = SimpleEngine.popen_uci(\"../engines/stockfish.exe\", creationflags=subprocess.CREATE_NO_WINDOW)"
   ],
   "metadata": {
    "collapsed": false,
    "ExecuteTime": {
     "end_time": "2024-01-25T01:08:58.611714300Z",
     "start_time": "2024-01-25T01:08:58.274731600Z"
    }
   }
  },
  {
   "cell_type": "code",
   "execution_count": 22,
   "outputs": [],
   "source": [
    "# New game\n",
    "\n",
    "pgn_string = \"\"\"\n",
    "[Event \"Chesslab Rated Game\"]\n",
    "[Site \"Chesslab\"]\n",
    "[Date \"2024.02.14\"]\n",
    "[Round \"?\"]\n",
    "[White \"Chesslab Engine\"]\n",
    "[Black \"Player\"]\n",
    "[Result \"0-1\"]\n",
    "[WhiteElo \"1292\"]\n",
    "[BlackElo \"1192\"]\n",
    "\n",
    "1. d4 e6 2. g3 d5 3. Bg2 Nf6 4. Nf3 c5 5. O-O b6 6. c4 Bb7 7. cxd5 Bxd5 8. Nc3\n",
    "Bb7 9. dxc5 Qxd1 10. Rxd1 Bxc5 11. Bf4 a6 12. Rac1 O-O 13. Na4 Nbd7 14. Nxc5\n",
    "Nxc5 15. b4 Ncd7 16. Rc7 Rab8 17. Rdxd7 Nxd7 18. Rxd7 Rfd8 19. Rxd8+ Rxd8 20.\n",
    "Nd2 Bxg2 21. Kxg2 Rc8 22. Kf3 Rc2 23. a4 Rb2 24. h3 Rxb4 25. Be3 Rxa4 26. Bxb6\n",
    "f5 27. h4 Kf7 28. Ke3 Ke7 29. h5 Kd7 30. Bc5 g6 31. hxg6 hxg6 32. Nf3 Kc6 33.\n",
    "Bd4 Kd5 34. Bg7 Rb4 35. Bf8 Rb8 36. Be7 a5 37. Kd3 a4 38. Nd2 Ra8 39. Ba3 e5\n",
    "40. Nc4 e4+ 41. Kc3 Rc8 42. Kb4 Rxc4+ 43. Ka5 Rc8 44. e3 Kc4 45. Kb6 Kb3 46. g4\n",
    "Kxa3 47. gxf5 gxf5 48. Kb5 Kb3 49. Kb6 a3 50. Kb7 Rc1 51. f3 a2 52. f4 a1=Q 53.\n",
    "Kb6 Qa4 54. Kb7 Qb5+ 55. Ka8 Ra1# 0-1\n",
    "\"\"\""
   ],
   "metadata": {
    "collapsed": false,
    "ExecuteTime": {
     "end_time": "2024-02-14T01:02:50.803103100Z",
     "start_time": "2024-02-14T01:02:50.674076800Z"
    }
   }
  },
  {
   "cell_type": "code",
   "execution_count": 23,
   "outputs": [],
   "source": [
    "# Load Collection\n",
    "\n",
    "collection = Collection(\"../data/player.pgn\")"
   ],
   "metadata": {
    "collapsed": false,
    "ExecuteTime": {
     "end_time": "2024-02-14T01:02:53.982207900Z",
     "start_time": "2024-02-14T01:02:53.311210600Z"
    }
   }
  },
  {
   "cell_type": "code",
   "execution_count": 19,
   "outputs": [],
   "source": [
    "# Removing comments and variants\n",
    "\n",
    "collection.remove_comments_and_variations()\n",
    "collection.save()"
   ],
   "metadata": {
    "collapsed": false,
    "ExecuteTime": {
     "end_time": "2023-12-29T15:21:10.405198300Z",
     "start_time": "2023-12-29T15:21:09.783197700Z"
    }
   }
  },
  {
   "cell_type": "code",
   "execution_count": 20,
   "outputs": [],
   "source": [
    "# Sorting Collection\n",
    "\n",
    "collection.sort()\n",
    "collection.save()"
   ],
   "metadata": {
    "collapsed": false,
    "ExecuteTime": {
     "end_time": "2023-12-29T15:23:43.677221Z",
     "start_time": "2023-12-29T15:23:42.974200Z"
    }
   }
  },
  {
   "cell_type": "code",
   "execution_count": 24,
   "outputs": [
    {
     "name": "stdout",
     "output_type": "stream",
     "text": [
      "game 155\n",
      "..............................................................................................................\n",
      "155 sec\n"
     ]
    }
   ],
   "source": [
    "# Adding game\n",
    "pgn_stream = io.StringIO(pgn_string)\n",
    "game = chess.pgn.read_game(pgn_stream)\n",
    "game = collection.remove_comments_and_variations_for_game(game)\n",
    "collection.add_game(game)\n",
    "collection.compute_scores_and_save(engine)"
   ],
   "metadata": {
    "collapsed": false,
    "ExecuteTime": {
     "end_time": "2024-02-14T01:05:35.320162700Z",
     "start_time": "2024-02-14T01:03:00.215211600Z"
    }
   }
  },
  {
   "cell_type": "code",
   "execution_count": null,
   "outputs": [],
   "source": [],
   "metadata": {
    "collapsed": false
   }
  }
 ],
 "metadata": {
  "kernelspec": {
   "display_name": "Python 3",
   "language": "python",
   "name": "python3"
  },
  "language_info": {
   "codemirror_mode": {
    "name": "ipython",
    "version": 2
   },
   "file_extension": ".py",
   "mimetype": "text/x-python",
   "name": "python",
   "nbconvert_exporter": "python",
   "pygments_lexer": "ipython2",
   "version": "2.7.6"
  }
 },
 "nbformat": 4,
 "nbformat_minor": 0
}
