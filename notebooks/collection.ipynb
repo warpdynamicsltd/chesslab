{
 "cells": [
  {
   "cell_type": "code",
   "execution_count": 1,
   "metadata": {
    "collapsed": true,
    "ExecuteTime": {
     "end_time": "2024-01-13T23:40:12.967130200Z",
     "start_time": "2024-01-13T23:40:10.345016800Z"
    }
   },
   "outputs": [],
   "source": [
    "%load_ext autoreload\n",
    "%autoreload 2\n",
    "\n",
    "import io\n",
    "import subprocess\n",
    "import datetime\n",
    "import matplotlib.pyplot as plt\n",
    "import pandas as pd\n",
    "import chess.pgn\n",
    "from chess import Board, Move, Color\n",
    "from chess.engine import SimpleEngine, Limit, PovScore\n",
    "from chesslab.game_score import GameScore\n",
    "from chesslab.collection import Collection"
   ]
  },
  {
   "cell_type": "code",
   "execution_count": 2,
   "outputs": [],
   "source": [
    "engine = SimpleEngine.popen_uci(\"../engines/stockfish.exe\", creationflags=subprocess.CREATE_NO_WINDOW)"
   ],
   "metadata": {
    "collapsed": false,
    "ExecuteTime": {
     "end_time": "2024-01-13T23:40:15.736249300Z",
     "start_time": "2024-01-13T23:40:15.236249400Z"
    }
   }
  },
  {
   "cell_type": "code",
   "execution_count": 29,
   "outputs": [],
   "source": [
    "# New game\n",
    "\n",
    "pgn_string = \"\"\"\n",
    "[Event \"Computer chess game\"]\n",
    "[Site \"Computer\"]\n",
    "[Date \"2024.01.20\"]\n",
    "[Round \"?\"]\n",
    "[White \"Fidelity SC9-D Sensory Chess Challenger 9-D\"]\n",
    "[Black \"Player\"]\n",
    "[Result \"1-0\"]\n",
    "[Time \"14:40:05\"]\n",
    "[Termination \"normal\"]\n",
    "[PlyCount \"111\"]\n",
    "[WhiteType \"program\"]\n",
    "[BlackType \"human\"]\n",
    "\n",
    "1. d4 e6 2. g3 d5 3. Bg2 Nf6 4. Nf3 b6 5. O-O Ba6 6. Bf4 Bd6 7. Bxd6 Qxd6\n",
    "8. Nc3 O-O 9. Rb1 c5 10. dxc5 bxc5 11. Ng5 h6 12. Nge4 Nxe4 13. Nxe4 Qc6\n",
    "14. Nd2 Qc7 15. c4 Bb7 16. Qb3 Rd8 17. cxd5 Bxd5 18. Nc4 Bxg2 19. Kxg2 Nc6\n",
    "20. Rbd1 Na5 21. Nxa5 Qxa5 22. a3 Rab8 23. Rxd8+ Rxd8 24. Rd1 Rxd1 25. Qxd1\n",
    "Qb6 26. Qd2 Kf8 27. e4 Ke7 28. Qc3 g6 29. Kf3 Qc6 30. Ke3 Qd6 31. f4 f5 32.\n",
    "Qg7+ Kd8 33. Qf6+ Kd7 34. Qf7+ Kd8 35. Qg8+ Kd7 36. Qh7+ Kd8 37. Qh8+ Kd7\n",
    "38. Qf6 fxe4 39. Qf7+ Kd8 40. Qg8+ Kd7 41. Qg7+ Kd8 42. Kxe4 Qd5+ 43. Ke3\n",
    "Qb3+ 44. Kd2 Qd5+ 45. Kc3 Qf3+ 46. Kc4 Qd5+ 47. Kb5 Qd3+ 48. Kxc5 Qd5+ 49.\n",
    "Kb4 a5+ 50. Ka4 Qc6+ 51. Kxa5 Qc5+ 52. Ka4 Qc4+ 53. b4 Qc6+ 54. b5 Qc4+ 55.\n",
    "Ka5 Qc3+ 56. Qxc3 {Black resigns} 1-0\n",
    "\"\"\""
   ],
   "metadata": {
    "collapsed": false,
    "ExecuteTime": {
     "end_time": "2024-01-20T16:31:33.978151400Z",
     "start_time": "2024-01-20T16:31:33.765151900Z"
    }
   }
  },
  {
   "cell_type": "code",
   "execution_count": 30,
   "outputs": [],
   "source": [
    "# Load Collection\n",
    "\n",
    "collection = Collection(\"../data/player.pgn\")"
   ],
   "metadata": {
    "collapsed": false,
    "ExecuteTime": {
     "end_time": "2024-01-20T16:31:38.307324600Z",
     "start_time": "2024-01-20T16:31:37.185672100Z"
    }
   }
  },
  {
   "cell_type": "code",
   "execution_count": 19,
   "outputs": [],
   "source": [
    "# Removing comments and variants\n",
    "\n",
    "collection.remove_comments_and_variations()\n",
    "collection.save()"
   ],
   "metadata": {
    "collapsed": false,
    "ExecuteTime": {
     "end_time": "2023-12-29T15:21:10.405198300Z",
     "start_time": "2023-12-29T15:21:09.783197700Z"
    }
   }
  },
  {
   "cell_type": "code",
   "execution_count": 20,
   "outputs": [],
   "source": [
    "# Sorting Collection\n",
    "\n",
    "collection.sort()\n",
    "collection.save()"
   ],
   "metadata": {
    "collapsed": false,
    "ExecuteTime": {
     "end_time": "2023-12-29T15:23:43.677221Z",
     "start_time": "2023-12-29T15:23:42.974200Z"
    }
   }
  },
  {
   "cell_type": "code",
   "execution_count": 31,
   "outputs": [
    {
     "name": "stdout",
     "output_type": "stream",
     "text": [
      "game 148\n",
      "...............................................................................................................\n",
      "169 sec\n"
     ]
    }
   ],
   "source": [
    "# Adding game\n",
    "pgn_stream = io.StringIO(pgn_string)\n",
    "game = chess.pgn.read_game(pgn_stream)\n",
    "game = collection.remove_comments_and_variations_for_game(game)\n",
    "collection.add_game(game)\n",
    "collection.compute_scores_and_save(engine)"
   ],
   "metadata": {
    "collapsed": false,
    "ExecuteTime": {
     "end_time": "2024-01-20T16:34:31.041026600Z",
     "start_time": "2024-01-20T16:31:42.093322500Z"
    }
   }
  },
  {
   "cell_type": "code",
   "execution_count": null,
   "outputs": [],
   "source": [],
   "metadata": {
    "collapsed": false
   }
  }
 ],
 "metadata": {
  "kernelspec": {
   "display_name": "Python 3",
   "language": "python",
   "name": "python3"
  },
  "language_info": {
   "codemirror_mode": {
    "name": "ipython",
    "version": 2
   },
   "file_extension": ".py",
   "mimetype": "text/x-python",
   "name": "python",
   "nbconvert_exporter": "python",
   "pygments_lexer": "ipython2",
   "version": "2.7.6"
  }
 },
 "nbformat": 4,
 "nbformat_minor": 0
}
