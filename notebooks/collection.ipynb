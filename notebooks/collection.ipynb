{
 "cells": [
  {
   "cell_type": "code",
   "execution_count": 1,
   "metadata": {
    "collapsed": true,
    "ExecuteTime": {
     "end_time": "2024-01-25T01:08:56.235907800Z",
     "start_time": "2024-01-25T01:08:54.267563100Z"
    }
   },
   "outputs": [],
   "source": [
    "%load_ext autoreload\n",
    "%autoreload 2\n",
    "\n",
    "import io\n",
    "import subprocess\n",
    "import datetime\n",
    "import matplotlib.pyplot as plt\n",
    "import pandas as pd\n",
    "import chess.pgn\n",
    "from chess import Board, Move, Color\n",
    "from chess.engine import SimpleEngine, Limit, PovScore\n",
    "from chesslab.game_score import GameScore\n",
    "from chesslab.collection import Collection"
   ]
  },
  {
   "cell_type": "code",
   "execution_count": 2,
   "outputs": [],
   "source": [
    "engine = SimpleEngine.popen_uci(\"../engines/stockfish.exe\", creationflags=subprocess.CREATE_NO_WINDOW)"
   ],
   "metadata": {
    "collapsed": false,
    "ExecuteTime": {
     "end_time": "2024-01-25T01:08:58.611714300Z",
     "start_time": "2024-01-25T01:08:58.274731600Z"
    }
   }
  },
  {
   "cell_type": "code",
   "execution_count": 25,
   "outputs": [],
   "source": [
    "# New game\n",
    "\n",
    "pgn_string = \"\"\"\n",
    "[Event \"Chesslab Rated Game\"]\n",
    "[Site \"Chesslab\"]\n",
    "[Date \"2024.02.15\"]\n",
    "[Round \"?\"]\n",
    "[White \"Player\"]\n",
    "[Black \"Chesslab Engine\"]\n",
    "[Result \"1-0\"]\n",
    "[WhiteElo \"1202\"]\n",
    "[BlackElo \"1318\"]\n",
    "\n",
    "1. d4 e6 2. Bf4 Nf6 3. Nf3 d5 4. e3 Be7 5. Nbd2 c5 6. c3 O-O 7. Bd3 Nbd7 8. O-O\n",
    "Qb6 9. Qb3 c4 10. Qxb6 axb6 11. Bc2 b5 12. b4 Ra3 13. Nb1 Ra8 14. Nbd2 Ra3 15.\n",
    "Nb1 Ra8 16. Nbd2 Nh5 17. Bc7 Ra3 18. Ba5 Rxc3 19. Rfc1 b6 20. Bxb6 Nxb6 21. Nb1\n",
    "Rxc2 22. Rxc2 Bxb4 23. Rb2 Bd6 24. Rxb5 Na4 25. Nbd2 Nc3 26. Rb2 Nf6 27. Ne5\n",
    "Ba6 28. Rb6 Ne2+ 29. Kf1 Bxe5 30. dxe5 Nd7 31. Rxa6 Nc5 32. Rc6 Nd3 33. Kxe2\n",
    "Nxe5 34. Rb6 Nd7 35. Rb5 Ra8 36. a4 c3 37. Nf3 c2 38. Kd2 Rc8 39. a5 Nf6 40.\n",
    "Nd4 Ne4+ 41. Kc1 Nd6 42. Rb4 Ne4 43. Nxc2 Nxf2 44. Kd2 e5 45. a6 h6 46. a7 d4\n",
    "47. a8=Q dxe3+ 48. Nxe3 Rxa8 49. Rxa8+ Kh7 50. Ke2 Nh1 51. Rb1 Ng3+ 52. hxg3\n",
    "Kg6 53. Rb6+ Kg5 54. Ra5 f6 55. Rb4 Kg6 56. Ra7 h5 57. Rbb7 Kh6 58. Rxg7 h4 59.\n",
    "Rh7+ Kg5 60. Kf3 e4+ 61. Kxe4 f5+ 62. Kf3 hxg3 63. Raf7 f4 64. Rhg7+ Kh4 65.\n",
    "Kxf4 Kh5 66. Ng4 Kh4 67. Rh7# 1-0\n",
    "\"\"\""
   ],
   "metadata": {
    "collapsed": false,
    "ExecuteTime": {
     "end_time": "2024-02-15T20:37:41.895320700Z",
     "start_time": "2024-02-15T20:37:41.702322600Z"
    }
   }
  },
  {
   "cell_type": "code",
   "execution_count": 26,
   "outputs": [],
   "source": [
    "# Load Collection\n",
    "\n",
    "collection = Collection(\"../data/player.pgn\")"
   ],
   "metadata": {
    "collapsed": false,
    "ExecuteTime": {
     "end_time": "2024-02-15T20:37:45.266359900Z",
     "start_time": "2024-02-15T20:37:44.289358900Z"
    }
   }
  },
  {
   "cell_type": "code",
   "execution_count": 19,
   "outputs": [],
   "source": [
    "# Removing comments and variants\n",
    "\n",
    "collection.remove_comments_and_variations()\n",
    "collection.save()"
   ],
   "metadata": {
    "collapsed": false,
    "ExecuteTime": {
     "end_time": "2023-12-29T15:21:10.405198300Z",
     "start_time": "2023-12-29T15:21:09.783197700Z"
    }
   }
  },
  {
   "cell_type": "code",
   "execution_count": 20,
   "outputs": [],
   "source": [
    "# Sorting Collection\n",
    "\n",
    "collection.sort()\n",
    "collection.save()"
   ],
   "metadata": {
    "collapsed": false,
    "ExecuteTime": {
     "end_time": "2023-12-29T15:23:43.677221Z",
     "start_time": "2023-12-29T15:23:42.974200Z"
    }
   }
  },
  {
   "cell_type": "code",
   "execution_count": 27,
   "outputs": [
    {
     "name": "stdout",
     "output_type": "stream",
     "text": [
      "game 156\n",
      ".....................................................................................................................................\n",
      "178 sec\n"
     ]
    }
   ],
   "source": [
    "# Adding game\n",
    "pgn_stream = io.StringIO(pgn_string)\n",
    "game = chess.pgn.read_game(pgn_stream)\n",
    "game = collection.remove_comments_and_variations_for_game(game)\n",
    "collection.add_game(game)\n",
    "collection.compute_scores_and_save(engine)"
   ],
   "metadata": {
    "collapsed": false,
    "ExecuteTime": {
     "end_time": "2024-02-15T20:40:57.798925100Z",
     "start_time": "2024-02-15T20:38:00.016589500Z"
    }
   }
  },
  {
   "cell_type": "code",
   "execution_count": null,
   "outputs": [],
   "source": [],
   "metadata": {
    "collapsed": false
   }
  }
 ],
 "metadata": {
  "kernelspec": {
   "display_name": "Python 3",
   "language": "python",
   "name": "python3"
  },
  "language_info": {
   "codemirror_mode": {
    "name": "ipython",
    "version": 2
   },
   "file_extension": ".py",
   "mimetype": "text/x-python",
   "name": "python",
   "nbconvert_exporter": "python",
   "pygments_lexer": "ipython2",
   "version": "2.7.6"
  }
 },
 "nbformat": 4,
 "nbformat_minor": 0
}
