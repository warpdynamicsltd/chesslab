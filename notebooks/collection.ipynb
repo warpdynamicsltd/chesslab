{
 "cells": [
  {
   "cell_type": "code",
   "execution_count": 1,
   "metadata": {
    "collapsed": true,
    "ExecuteTime": {
     "end_time": "2023-12-29T15:13:30.809374300Z",
     "start_time": "2023-12-29T15:13:29.560377300Z"
    }
   },
   "outputs": [],
   "source": [
    "%load_ext autoreload\n",
    "%autoreload 2\n",
    "\n",
    "import io\n",
    "import subprocess\n",
    "import datetime\n",
    "import matplotlib.pyplot as plt\n",
    "import pandas as pd\n",
    "import chess.pgn\n",
    "from chess import Board, Move, Color\n",
    "from chess.engine import SimpleEngine, Limit, PovScore\n",
    "from chesslab.game_score import GameScore\n",
    "from chesslab.collection import Collection"
   ]
  },
  {
   "cell_type": "code",
   "execution_count": 27,
   "outputs": [],
   "source": [
    "engine = SimpleEngine.popen_uci(\"../engines/stockfish.exe\", creationflags=subprocess.CREATE_NO_WINDOW)"
   ],
   "metadata": {
    "collapsed": false,
    "ExecuteTime": {
     "end_time": "2023-12-29T16:55:42.342572400Z",
     "start_time": "2023-12-29T16:55:41.855571100Z"
    }
   }
  },
  {
   "cell_type": "code",
   "execution_count": 84,
   "outputs": [],
   "source": [
    "# New game\n",
    "\n",
    "pgn_string = \"\"\"\n",
    "[Event \"Computer chess game\"]\n",
    "[Site \"Computer\"]\n",
    "[Date \"2024.01.05\"]\n",
    "[Round \"?\"]\n",
    "[White \"Fidelity SC9-D Sensory Chess Challenger 9-D\"]\n",
    "[Black \"Player\"]\n",
    "[Result \"1-0\"]\n",
    "[Time \"09:47:23\"]\n",
    "[Termination \"normal\"]\n",
    "[PlyCount \"99\"]\n",
    "[WhiteType \"program\"]\n",
    "[BlackType \"human\"]\n",
    "\n",
    "1. Nf3 e6 2. d4 Nf6 3. Bf4 d5 4. Qd3 Bd6 5. Bxd6 Qxd6 6. Nc3 Bd7 7. e3 O-O\n",
    "8. Be2 Nc6 9. O-O a6 10. Ng5 h6 11. Nf3 e5 12. dxe5 Nxe5 13. Nxe5 Qxe5 14.\n",
    "Rad1 c6 15. Qd4 Rfe8 16. Qxe5 Rxe5 17. Rd4 Bf5 18. Rb4 b5 19. Bd3 a5 20.\n",
    "Rh4 g5 21. Rxh6 Kg7 22. f4 Bxd3 23. fxe5 Bxf1 24. Rxf6 Bc4 25. Rxc6 Re8 26.\n",
    "b3 b4 27. bxc4 bxc3 28. cxd5 Rxe5 29. Rc5 Rxe3 30. d6 Re8 31. Rxg5+ Kf6 32.\n",
    "Rxa5 Rd8 33. Rd5 Ke6 34. Rd3 f6 35. Rxc3 Rxd6 36. Re3+ Kf7 37. c4 Rd1+ 38.\n",
    "Kf2 Rd2+ 39. Re2 Rd4 40. Rc2 Ke6 41. g3 Rd8 42. h4 Rc8 43. h5 Kd6 44. c5+\n",
    "Ke7 45. c6 Kf7 46. c7 Kg7 47. Rc6 Kh6 48. g4 Kg5 49. Kg3 f5 50. Rg6# 1-0\n",
    "\"\"\""
   ],
   "metadata": {
    "collapsed": false,
    "ExecuteTime": {
     "end_time": "2024-01-05T10:54:22.702685200Z",
     "start_time": "2024-01-05T10:54:22.471684Z"
    }
   }
  },
  {
   "cell_type": "code",
   "execution_count": 85,
   "outputs": [],
   "source": [
    "# Load Collection\n",
    "\n",
    "collection = Collection(\"../data/player.pgn\")"
   ],
   "metadata": {
    "collapsed": false,
    "ExecuteTime": {
     "end_time": "2024-01-05T10:54:24.714684400Z",
     "start_time": "2024-01-05T10:54:23.801685Z"
    }
   }
  },
  {
   "cell_type": "code",
   "execution_count": 19,
   "outputs": [],
   "source": [
    "# Removing comments and variants\n",
    "\n",
    "collection.remove_comments_and_variations()\n",
    "collection.save()"
   ],
   "metadata": {
    "collapsed": false,
    "ExecuteTime": {
     "end_time": "2023-12-29T15:21:10.405198300Z",
     "start_time": "2023-12-29T15:21:09.783197700Z"
    }
   }
  },
  {
   "cell_type": "code",
   "execution_count": 20,
   "outputs": [],
   "source": [
    "# Sorting Collection\n",
    "\n",
    "collection.sort()\n",
    "collection.save()"
   ],
   "metadata": {
    "collapsed": false,
    "ExecuteTime": {
     "end_time": "2023-12-29T15:23:43.677221Z",
     "start_time": "2023-12-29T15:23:42.974200Z"
    }
   }
  },
  {
   "cell_type": "code",
   "execution_count": 86,
   "outputs": [
    {
     "name": "stdout",
     "output_type": "stream",
     "text": [
      "game 137\n",
      "...................................................................................................\n",
      "149 sec\n"
     ]
    }
   ],
   "source": [
    "# Adding game\n",
    "pgn_stream = io.StringIO(pgn_string)\n",
    "game = chess.pgn.read_game(pgn_stream)\n",
    "game = collection.remove_comments_and_variations_for_game(game)\n",
    "collection.add_game(game)\n",
    "collection.compute_scores_and_save(engine)"
   ],
   "metadata": {
    "collapsed": false,
    "ExecuteTime": {
     "end_time": "2024-01-05T10:56:58.508992900Z",
     "start_time": "2024-01-05T10:54:29.280684900Z"
    }
   }
  },
  {
   "cell_type": "code",
   "execution_count": null,
   "outputs": [],
   "source": [],
   "metadata": {
    "collapsed": false
   }
  }
 ],
 "metadata": {
  "kernelspec": {
   "display_name": "Python 3",
   "language": "python",
   "name": "python3"
  },
  "language_info": {
   "codemirror_mode": {
    "name": "ipython",
    "version": 2
   },
   "file_extension": ".py",
   "mimetype": "text/x-python",
   "name": "python",
   "nbconvert_exporter": "python",
   "pygments_lexer": "ipython2",
   "version": "2.7.6"
  }
 },
 "nbformat": 4,
 "nbformat_minor": 0
}
