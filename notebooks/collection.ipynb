{
 "cells": [
  {
   "cell_type": "code",
   "execution_count": 1,
   "metadata": {
    "collapsed": true,
    "ExecuteTime": {
     "end_time": "2024-01-13T23:40:12.967130200Z",
     "start_time": "2024-01-13T23:40:10.345016800Z"
    }
   },
   "outputs": [],
   "source": [
    "%load_ext autoreload\n",
    "%autoreload 2\n",
    "\n",
    "import io\n",
    "import subprocess\n",
    "import datetime\n",
    "import matplotlib.pyplot as plt\n",
    "import pandas as pd\n",
    "import chess.pgn\n",
    "from chess import Board, Move, Color\n",
    "from chess.engine import SimpleEngine, Limit, PovScore\n",
    "from chesslab.game_score import GameScore\n",
    "from chesslab.collection import Collection"
   ]
  },
  {
   "cell_type": "code",
   "execution_count": 2,
   "outputs": [],
   "source": [
    "engine = SimpleEngine.popen_uci(\"../engines/stockfish.exe\", creationflags=subprocess.CREATE_NO_WINDOW)"
   ],
   "metadata": {
    "collapsed": false,
    "ExecuteTime": {
     "end_time": "2024-01-13T23:40:15.736249300Z",
     "start_time": "2024-01-13T23:40:15.236249400Z"
    }
   }
  },
  {
   "cell_type": "code",
   "execution_count": 3,
   "outputs": [],
   "source": [
    "# New game\n",
    "\n",
    "pgn_string = \"\"\"\n",
    "[Event \"Computer chess game\"]\n",
    "[Site \"Computer\"]\n",
    "[Date \"2024.01.13\"]\n",
    "[Round \"?\"]\n",
    "[White \"Fidelity SC9-D Sensory Chess Challenger 9-D\"]\n",
    "[Black \"Player\"]\n",
    "[Result \"0-1\"]\n",
    "[Time \"21:45:27\"]\n",
    "[Termination \"normal\"]\n",
    "[PlyCount \"144\"]\n",
    "[WhiteType \"program\"]\n",
    "[BlackType \"human\"]\n",
    "\n",
    "1. e4 e6 2. d4 d5 3. Nc3 Nf6 4. Bg5 Be7 5. e5 Nfd7 6. Bxe7 Qxe7 7. f4 c6 8.\n",
    "Nf3 O-O 9. Bd3 h6 10. O-O Nb6 11. a4 a5 12. Qe2 Na6 13. Qd2 Nb4 14. Rae1\n",
    "Nxd3 15. Qxd3 Nd7 16. Ne2 c5 17. b3 b6 18. c3 cxd4 19. Nexd4 Qc5 20. c4 Ba6\n",
    "21. Nd2 dxc4 22. Nxc4 Bxc4 23. bxc4 Rad8 24. Rd1 Nb8 25. Rfe1 Nc6 26. Re4\n",
    "Rd7 27. Rb1 Nxd4 28. Kh1 Rfd8 29. Ree1 Nf5 30. Qb3 Rd4 31. Qxb6 Qxb6 32.\n",
    "Rxb6 Rd1 33. Rg1 Rxg1+ 34. Kxg1 Rd4 35. c5 Rxa4 36. Rb8+ Kh7 37. c6 Rc4 38.\n",
    "Ra8 Rc5 39. Kf2 Ne7 40. c7 Rxc7 41. Rxa5 Nd5 42. f5 Rc4 43. fxe6 fxe6 44.\n",
    "Ra6 Nc7 45. Rd6 Rc5 46. Rd7 Nb5 47. Kf3 Rxe5 48. Re7 Re1 49. Kf4 Nd4 50.\n",
    "Kg4 e5 51. Kh5 e4 52. Kg4 e3 53. Rd7 e2 54. Rxd4 Rd1 55. Re4 e1=Q 56. Rxe1\n",
    "Rxe1 57. Kf3 g5 58. Kf2 Re8 59. Kg3 h5 60. h4 gxh4+ 61. Kxh4 Re2 62. Kxh5\n",
    "Rxg2 63. Kh4 Kg6 64. Kh3 Rg5 65. Kh4 Kf5 66. Kh3 Kf4 67. Kh4 Rg8 68. Kh5\n",
    "Rg1 69. Kh6 Kf5 70. Kh7 Kf6 71. Kh8 Kf7 72. Kh7 Rh1# 0-1\n",
    "\"\"\""
   ],
   "metadata": {
    "collapsed": false,
    "ExecuteTime": {
     "end_time": "2024-01-13T23:40:31.618523900Z",
     "start_time": "2024-01-13T23:40:31.459523400Z"
    }
   }
  },
  {
   "cell_type": "code",
   "execution_count": 4,
   "outputs": [],
   "source": [
    "# Load Collection\n",
    "\n",
    "collection = Collection(\"../data/player.pgn\")"
   ],
   "metadata": {
    "collapsed": false,
    "ExecuteTime": {
     "end_time": "2024-01-13T23:40:34.432122900Z",
     "start_time": "2024-01-13T23:40:33.537077300Z"
    }
   }
  },
  {
   "cell_type": "code",
   "execution_count": 19,
   "outputs": [],
   "source": [
    "# Removing comments and variants\n",
    "\n",
    "collection.remove_comments_and_variations()\n",
    "collection.save()"
   ],
   "metadata": {
    "collapsed": false,
    "ExecuteTime": {
     "end_time": "2023-12-29T15:21:10.405198300Z",
     "start_time": "2023-12-29T15:21:09.783197700Z"
    }
   }
  },
  {
   "cell_type": "code",
   "execution_count": 20,
   "outputs": [],
   "source": [
    "# Sorting Collection\n",
    "\n",
    "collection.sort()\n",
    "collection.save()"
   ],
   "metadata": {
    "collapsed": false,
    "ExecuteTime": {
     "end_time": "2023-12-29T15:23:43.677221Z",
     "start_time": "2023-12-29T15:23:42.974200Z"
    }
   }
  },
  {
   "cell_type": "code",
   "execution_count": 5,
   "outputs": [
    {
     "name": "stdout",
     "output_type": "stream",
     "text": [
      "game 140\n",
      "................................................................................................................................................\n",
      "200 sec\n"
     ]
    }
   ],
   "source": [
    "# Adding game\n",
    "pgn_stream = io.StringIO(pgn_string)\n",
    "game = chess.pgn.read_game(pgn_stream)\n",
    "game = collection.remove_comments_and_variations_for_game(game)\n",
    "collection.add_game(game)\n",
    "collection.compute_scores_and_save(engine)"
   ],
   "metadata": {
    "collapsed": false,
    "ExecuteTime": {
     "end_time": "2024-01-13T23:44:00.175146100Z",
     "start_time": "2024-01-13T23:40:39.600681300Z"
    }
   }
  },
  {
   "cell_type": "code",
   "execution_count": null,
   "outputs": [],
   "source": [],
   "metadata": {
    "collapsed": false
   }
  }
 ],
 "metadata": {
  "kernelspec": {
   "display_name": "Python 3",
   "language": "python",
   "name": "python3"
  },
  "language_info": {
   "codemirror_mode": {
    "name": "ipython",
    "version": 2
   },
   "file_extension": ".py",
   "mimetype": "text/x-python",
   "name": "python",
   "nbconvert_exporter": "python",
   "pygments_lexer": "ipython2",
   "version": "2.7.6"
  }
 },
 "nbformat": 4,
 "nbformat_minor": 0
}
