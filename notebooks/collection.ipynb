{
 "cells": [
  {
   "cell_type": "code",
   "execution_count": 1,
   "metadata": {
    "collapsed": true,
    "ExecuteTime": {
     "end_time": "2024-01-13T23:40:12.967130200Z",
     "start_time": "2024-01-13T23:40:10.345016800Z"
    }
   },
   "outputs": [],
   "source": [
    "%load_ext autoreload\n",
    "%autoreload 2\n",
    "\n",
    "import io\n",
    "import subprocess\n",
    "import datetime\n",
    "import matplotlib.pyplot as plt\n",
    "import pandas as pd\n",
    "import chess.pgn\n",
    "from chess import Board, Move, Color\n",
    "from chess.engine import SimpleEngine, Limit, PovScore\n",
    "from chesslab.game_score import GameScore\n",
    "from chesslab.collection import Collection"
   ]
  },
  {
   "cell_type": "code",
   "execution_count": 2,
   "outputs": [],
   "source": [
    "engine = SimpleEngine.popen_uci(\"../engines/stockfish.exe\", creationflags=subprocess.CREATE_NO_WINDOW)"
   ],
   "metadata": {
    "collapsed": false,
    "ExecuteTime": {
     "end_time": "2024-01-13T23:40:15.736249300Z",
     "start_time": "2024-01-13T23:40:15.236249400Z"
    }
   }
  },
  {
   "cell_type": "code",
   "execution_count": 6,
   "outputs": [],
   "source": [
    "# New game\n",
    "\n",
    "pgn_string = \"\"\"\n",
    "[Event \"vs Computer\"]\n",
    "[Site \"Chess.com\"]\n",
    "[Date \"2024.01.16\"]\n",
    "[Round \"-\"]\n",
    "[White \"Komodo11\"]\n",
    "[Black \"Player\"]\n",
    "[Result \"0-1\"]\n",
    "[CurrentPosition \"7K/5rq1/8/8/8/8/8/k7 w - - 9 72\"]\n",
    "[Timezone \"UTC\"]\n",
    "[ECO \"D53\"]\n",
    "[UTCDate \"2024.01.16\"]\n",
    "[UTCTime \"01:30:27\"]\n",
    "[WhiteElo \"1500\"]\n",
    "[BlackElo \"1563\"]\n",
    "[TimeControl \"1/0\"]\n",
    "[Termination \"Player won by checkmate\"]\n",
    "[StartTime \"01:30:27\"]\n",
    "[EndDate \"2024.01.16\"]\n",
    "[EndTime \"01:52:37\"]\n",
    "[WhiteTitle \"\"]\n",
    "[BlackTitle \"\"]\n",
    "\n",
    "1. d4 d5 2. c4 e6 3. Nc3 Nf6 4. Bg5 Be7 5. e3 h6 6. Bh4 Nbd7 7. Bxf6 Nxf6 8.\n",
    "cxd5 exd5 9. Bd3 c6 10. Qf3 Bg4 11. Qg3 Bd6 12. f4 O-O 13. Be2 Bxe2 14. Ngxe2\n",
    "Re8 15. O-O Bb4 16. a3 Bxc3 17. Nxc3 Qd7 18. b4 Qg4 19. Rac1 Qxg3 20. hxg3 Ng4\n",
    "21. Nd1 Nxe3 22. Nxe3 Rxe3 23. Rfe1 Rae8 24. Rxe3 Rxe3 25. Kf2 Rxa3 26. b5 Rd3\n",
    "27. bxc6 bxc6 28. Rxc6 Rxd4 29. Rc8+ Kh7 30. Ke3 Rd1 31. Ke2 Ra1 32. Rd8 Ra5 33.\n",
    "Kf2 Kg6 34. Kf3 Kf6 35. Ke3 Ke6 36. g4 Ra6 37. Re8+ Kd7 38. Rg8 g6 39. g5 hxg5\n",
    "40. fxg5 Rd6 41. Kd4 Kc7 42. Rg7 Rd7 43. Rh7 Kb6 44. g3 a5 45. g4 a4 46. Rg7 Kb5\n",
    "47. Rg8 Kb4 48. Rb8+ Ka3 49. Ra8 Rb7 50. Ke5 Kb3 51. Kd4 a3 52. Kxd5 a2 53. Ra5\n",
    "Rb4 54. Ra6 Kb2 55. Ra8 a1=Q 56. Rxa1 Kxa1 57. Kc5 Rxg4 58. Kd6 Rxg5 59. Kd7 f5\n",
    "60. Ke6 f4 61. Kf7 f3 62. Kf6 Ra5 63. Kg7 f2 64. Kg8 f1=Q 65. Kg7 Qf4 66. Kh7\n",
    "Ra7+ 67. Kxg6 Rf7 68. Kh5 Rf5+ 69. Kg6 Qg5+ 70. Kh7 Rf7+ 71. Kh8 Qg7# 0-1\n",
    "\"\"\""
   ],
   "metadata": {
    "collapsed": false,
    "ExecuteTime": {
     "end_time": "2024-01-16T02:04:18.042198100Z",
     "start_time": "2024-01-16T02:04:17.879664900Z"
    }
   }
  },
  {
   "cell_type": "code",
   "execution_count": 4,
   "outputs": [],
   "source": [
    "# Load Collection\n",
    "\n",
    "collection = Collection(\"../data/player.pgn\")"
   ],
   "metadata": {
    "collapsed": false,
    "ExecuteTime": {
     "end_time": "2024-01-13T23:40:34.432122900Z",
     "start_time": "2024-01-13T23:40:33.537077300Z"
    }
   }
  },
  {
   "cell_type": "code",
   "execution_count": 19,
   "outputs": [],
   "source": [
    "# Removing comments and variants\n",
    "\n",
    "collection.remove_comments_and_variations()\n",
    "collection.save()"
   ],
   "metadata": {
    "collapsed": false,
    "ExecuteTime": {
     "end_time": "2023-12-29T15:21:10.405198300Z",
     "start_time": "2023-12-29T15:21:09.783197700Z"
    }
   }
  },
  {
   "cell_type": "code",
   "execution_count": 20,
   "outputs": [],
   "source": [
    "# Sorting Collection\n",
    "\n",
    "collection.sort()\n",
    "collection.save()"
   ],
   "metadata": {
    "collapsed": false,
    "ExecuteTime": {
     "end_time": "2023-12-29T15:23:43.677221Z",
     "start_time": "2023-12-29T15:23:42.974200Z"
    }
   }
  },
  {
   "cell_type": "code",
   "execution_count": 7,
   "outputs": [
    {
     "name": "stdout",
     "output_type": "stream",
     "text": [
      "game 141\n",
      "..............................................................................................................................................\n",
      "194 sec\n"
     ]
    }
   ],
   "source": [
    "# Adding game\n",
    "pgn_stream = io.StringIO(pgn_string)\n",
    "game = chess.pgn.read_game(pgn_stream)\n",
    "game = collection.remove_comments_and_variations_for_game(game)\n",
    "collection.add_game(game)\n",
    "collection.compute_scores_and_save(engine)"
   ],
   "metadata": {
    "collapsed": false,
    "ExecuteTime": {
     "end_time": "2024-01-16T02:07:35.618419900Z",
     "start_time": "2024-01-16T02:04:21.498805900Z"
    }
   }
  },
  {
   "cell_type": "code",
   "execution_count": null,
   "outputs": [],
   "source": [],
   "metadata": {
    "collapsed": false
   }
  }
 ],
 "metadata": {
  "kernelspec": {
   "display_name": "Python 3",
   "language": "python",
   "name": "python3"
  },
  "language_info": {
   "codemirror_mode": {
    "name": "ipython",
    "version": 2
   },
   "file_extension": ".py",
   "mimetype": "text/x-python",
   "name": "python",
   "nbconvert_exporter": "python",
   "pygments_lexer": "ipython2",
   "version": "2.7.6"
  }
 },
 "nbformat": 4,
 "nbformat_minor": 0
}
