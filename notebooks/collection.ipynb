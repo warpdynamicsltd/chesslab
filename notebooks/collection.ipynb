{
 "cells": [
  {
   "cell_type": "code",
   "execution_count": 1,
   "metadata": {
    "collapsed": true,
    "ExecuteTime": {
     "end_time": "2024-01-25T01:08:56.235907800Z",
     "start_time": "2024-01-25T01:08:54.267563100Z"
    }
   },
   "outputs": [],
   "source": [
    "%load_ext autoreload\n",
    "%autoreload 2\n",
    "\n",
    "import io\n",
    "import subprocess\n",
    "import datetime\n",
    "import matplotlib.pyplot as plt\n",
    "import pandas as pd\n",
    "import chess.pgn\n",
    "from chess import Board, Move, Color\n",
    "from chess.engine import SimpleEngine, Limit, PovScore\n",
    "from chesslab.game_score import GameScore\n",
    "from chesslab.collection import Collection"
   ]
  },
  {
   "cell_type": "code",
   "execution_count": 2,
   "outputs": [],
   "source": [
    "engine = SimpleEngine.popen_uci(\"../engines/stockfish.exe\", creationflags=subprocess.CREATE_NO_WINDOW)"
   ],
   "metadata": {
    "collapsed": false,
    "ExecuteTime": {
     "end_time": "2024-01-25T01:08:58.611714300Z",
     "start_time": "2024-01-25T01:08:58.274731600Z"
    }
   }
  },
  {
   "cell_type": "code",
   "execution_count": 10,
   "outputs": [],
   "source": [
    "# New game\n",
    "\n",
    "pgn_string = \"\"\"\n",
    "[Event \"Computer chess game\"]\n",
    "[Site \"Computer\"]\n",
    "[Date \"2024.01.29\"]\n",
    "[Round \"?\"]\n",
    "[White \"Player\"]\n",
    "[Black \"Stockfish minimal nodes\"]\n",
    "[Result \"1/2-1/2\"]\n",
    "[Time \"00:20:42\"]\n",
    "[Termination \"normal\"]\n",
    "[BlackType \"program\"]\n",
    "\n",
    "1. d4 d6 2. Bf4 Nf6 3. Nf3 h6 4. e3 c5 5. c3 cxd4 6. Bb5+ Bd7 7. Bxd7+ Qxd7 8.\n",
    "cxd4 e6 9. O-O Be7 10. Nc3 O-O 11. Rc1 Rc8 12. Qb3 Nc6 13. Rfd1 Na5 14. Qb5\n",
    "Qxb5 15. Nxb5 Nc4 16. b3 Nb2 17. Rxc8+ Rxc8 18. Rb1 Nd3 19. Bxd6 Bxd6 20. Nxd6\n",
    "Rc2 21. Ne1 Nxe1 22. Rxe1 b6 23. a4 Rc3 24. Nb5 Rxb3 25. Nxa7 Ra3 26. Nc8 Nd5\n",
    "27. g3 Rxa4 28. Rb1 Ra6 29. Kf1 Kf8 30. Ke2 Ra2+ 31. Kf3 Ra6 32. e4 Ra3+ 33.\n",
    "Kg2 Nc3 34. Rxb6 Nxe4 35. Nd6 Nxd6 36. Rxd6 Ke7 37. Rb6 Rd3 38. Rb7+ Kf8 39.\n",
    "Rb8+ Ke7 40. Rb7+ Kf8 41. Rb8+ Ke7 42. Rb7+ 1/2-1/2\n",
    "\"\"\""
   ],
   "metadata": {
    "collapsed": false,
    "ExecuteTime": {
     "end_time": "2024-01-29T00:20:36.397777400Z",
     "start_time": "2024-01-29T00:20:36.172777600Z"
    }
   }
  },
  {
   "cell_type": "code",
   "execution_count": 11,
   "outputs": [],
   "source": [
    "# Load Collection\n",
    "\n",
    "collection = Collection(\"../data/player.pgn\")"
   ],
   "metadata": {
    "collapsed": false,
    "ExecuteTime": {
     "end_time": "2024-01-29T00:20:40.488416500Z",
     "start_time": "2024-01-29T00:20:39.022297500Z"
    }
   }
  },
  {
   "cell_type": "code",
   "execution_count": 19,
   "outputs": [],
   "source": [
    "# Removing comments and variants\n",
    "\n",
    "collection.remove_comments_and_variations()\n",
    "collection.save()"
   ],
   "metadata": {
    "collapsed": false,
    "ExecuteTime": {
     "end_time": "2023-12-29T15:21:10.405198300Z",
     "start_time": "2023-12-29T15:21:09.783197700Z"
    }
   }
  },
  {
   "cell_type": "code",
   "execution_count": 20,
   "outputs": [],
   "source": [
    "# Sorting Collection\n",
    "\n",
    "collection.sort()\n",
    "collection.save()"
   ],
   "metadata": {
    "collapsed": false,
    "ExecuteTime": {
     "end_time": "2023-12-29T15:23:43.677221Z",
     "start_time": "2023-12-29T15:23:42.974200Z"
    }
   }
  },
  {
   "cell_type": "code",
   "execution_count": 12,
   "outputs": [
    {
     "name": "stdout",
     "output_type": "stream",
     "text": [
      "game 151\n",
      "...................................................................................\n",
      "126 sec\n"
     ]
    }
   ],
   "source": [
    "# Adding game\n",
    "pgn_stream = io.StringIO(pgn_string)\n",
    "game = chess.pgn.read_game(pgn_stream)\n",
    "game = collection.remove_comments_and_variations_for_game(game)\n",
    "collection.add_game(game)\n",
    "collection.compute_scores_and_save(engine)"
   ],
   "metadata": {
    "collapsed": false,
    "ExecuteTime": {
     "end_time": "2024-01-29T00:22:52.938771600Z",
     "start_time": "2024-01-29T00:20:46.322417800Z"
    }
   }
  },
  {
   "cell_type": "code",
   "execution_count": null,
   "outputs": [],
   "source": [],
   "metadata": {
    "collapsed": false
   }
  }
 ],
 "metadata": {
  "kernelspec": {
   "display_name": "Python 3",
   "language": "python",
   "name": "python3"
  },
  "language_info": {
   "codemirror_mode": {
    "name": "ipython",
    "version": 2
   },
   "file_extension": ".py",
   "mimetype": "text/x-python",
   "name": "python",
   "nbconvert_exporter": "python",
   "pygments_lexer": "ipython2",
   "version": "2.7.6"
  }
 },
 "nbformat": 4,
 "nbformat_minor": 0
}
