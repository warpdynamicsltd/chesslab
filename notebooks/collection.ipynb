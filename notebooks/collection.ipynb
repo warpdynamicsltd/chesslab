{
 "cells": [
  {
   "cell_type": "code",
   "execution_count": 1,
   "metadata": {
    "collapsed": true,
    "ExecuteTime": {
     "end_time": "2024-03-31T16:52:38.625747400Z",
     "start_time": "2024-03-31T16:52:36.344456500Z"
    }
   },
   "outputs": [],
   "source": [
    "%load_ext autoreload\n",
    "%autoreload 2\n",
    "\n",
    "import io\n",
    "import subprocess\n",
    "import datetime\n",
    "import matplotlib.pyplot as plt\n",
    "import pandas as pd\n",
    "import chess.pgn\n",
    "from chess import Board, Move, Color\n",
    "from chess.engine import SimpleEngine, Limit, PovScore\n",
    "from chesslab.game_score import GameScore\n",
    "from chesslab.collection import Collection"
   ]
  },
  {
   "cell_type": "code",
   "execution_count": 5,
   "outputs": [],
   "source": [
    "engine = SimpleEngine.popen_uci(\"../engines/stockfish.exe\", creationflags=subprocess.CREATE_NO_WINDOW)"
   ],
   "metadata": {
    "collapsed": false,
    "ExecuteTime": {
     "end_time": "2024-03-31T16:53:04.122801400Z",
     "start_time": "2024-03-31T16:53:03.172805Z"
    }
   }
  },
  {
   "cell_type": "code",
   "execution_count": 2,
   "outputs": [],
   "source": [
    "# New game\n",
    "\n",
    "pgn_string = \"\"\"\n",
    "[Event \"Chesslab Rated Game\"]\n",
    "[Site \"Chesslab\"]\n",
    "[Date \"2024.03.31\"]\n",
    "[Round \"?\"]\n",
    "[White \"Player\"]\n",
    "[Black \"Chesslab Engine\"]\n",
    "[Result \"1/2-1/2\"]\n",
    "[WhiteElo \"1204\"]\n",
    "[BlackElo \"1495\"]\n",
    "\n",
    "1. d4 f5 2. Bf4 Nf6 3. Nf3 d6 4. e3 Nc6 5. c3 Nd5 6. Bg3 f4 7. Bxf4 Nxf4 8.\n",
    "exf4 e6 9. g3 e5 10. fxe5 dxe5 11. Bb5 Bg4 12. Qd3 Qd5 13. Nbd2 O-O-O 14. O-O-O\n",
    "exd4 15. c4 Qc5 16. a3 Bf5 17. Nb3 Bxd3 18. Nxc5 Bf5 19. Bxc6 Bxc5 20. b4 Bb6\n",
    "21. c5 Bxc5 22. bxc5 bxc6 23. Nxd4 Rd5 24. Nxf5 Rxc5+ 25. Kb2 Rxf5 26. f4 Rb5+\n",
    "27. Ka2 Re8 28. Rd2 Rd5 29. Rhd1 Rxd2+ 30. Rxd2 Re4 31. Kb3 c5 32. Rc2 Re3+ 33.\n",
    "Kc4 Rxa3 34. Kxc5 Kd7 35. Rd2+ Ke6 36. Kc6 Rc3+ 37. Kb7 a5 38. Ra2 Rc5 39. Ka6\n",
    "Kf5 40. h3 Ke4 41. Ra4+ Kf3 42. g4 Rd5 43. f5 Rd8 44. Kb7 c5 45. Rxa5 c4 46.\n",
    "Rc5 Rd4 47. Kc6 Kf4 48. Kb5 Rd8 49. Rxc4+ Kg3 50. Rc3+ Kf4 51. Kb6 Re8 52. Kc7\n",
    "h5 53. Kd7 Re4 54. gxh5 Kxf5 55. Rg3 Kf6 56. Rf3+ Kg5 57. Rg3+ Kxh5 58. Rxg7\n",
    "Kh4 59. Rh7+ Kg5 60. Kd6 Rh4 61. Rxh4 Kxh4 62. Ke5 Kxh3 1/2-1/2\n",
    "\"\"\""
   ],
   "metadata": {
    "collapsed": false,
    "ExecuteTime": {
     "end_time": "2024-03-31T16:52:46.213453400Z",
     "start_time": "2024-03-31T16:52:46.101454900Z"
    }
   }
  },
  {
   "cell_type": "code",
   "execution_count": 6,
   "outputs": [],
   "source": [
    "# Load Collection\n",
    "\n",
    "collection = Collection(\"../data/player.pgn\")"
   ],
   "metadata": {
    "collapsed": false,
    "ExecuteTime": {
     "end_time": "2024-03-31T16:53:09.538801300Z",
     "start_time": "2024-03-31T16:53:08.593803100Z"
    }
   }
  },
  {
   "cell_type": "code",
   "execution_count": 19,
   "outputs": [],
   "source": [
    "# Removing comments and variants\n",
    "\n",
    "collection.remove_comments_and_variations()\n",
    "collection.save()"
   ],
   "metadata": {
    "collapsed": false,
    "ExecuteTime": {
     "end_time": "2023-12-29T15:21:10.405198300Z",
     "start_time": "2023-12-29T15:21:09.783197700Z"
    }
   }
  },
  {
   "cell_type": "code",
   "execution_count": 20,
   "outputs": [],
   "source": [
    "# Sorting Collection\n",
    "\n",
    "collection.sort()\n",
    "collection.save()"
   ],
   "metadata": {
    "collapsed": false,
    "ExecuteTime": {
     "end_time": "2023-12-29T15:23:43.677221Z",
     "start_time": "2023-12-29T15:23:42.974200Z"
    }
   }
  },
  {
   "cell_type": "code",
   "execution_count": 7,
   "outputs": [
    {
     "name": "stdout",
     "output_type": "stream",
     "text": [
      "game 166\n",
      "............................................................................................................................\n",
      "188 sec\n"
     ]
    }
   ],
   "source": [
    "# Adding game\n",
    "pgn_stream = io.StringIO(pgn_string)\n",
    "game = chess.pgn.read_game(pgn_stream)\n",
    "game = collection.remove_comments_and_variations_for_game(game)\n",
    "collection.add_game(game)\n",
    "collection.compute_scores_and_save(engine)"
   ],
   "metadata": {
    "collapsed": false,
    "ExecuteTime": {
     "end_time": "2024-03-31T16:56:20.813097500Z",
     "start_time": "2024-03-31T16:53:12.266802600Z"
    }
   }
  },
  {
   "cell_type": "code",
   "execution_count": null,
   "outputs": [],
   "source": [],
   "metadata": {
    "collapsed": false
   }
  }
 ],
 "metadata": {
  "kernelspec": {
   "display_name": "Python 3",
   "language": "python",
   "name": "python3"
  },
  "language_info": {
   "codemirror_mode": {
    "name": "ipython",
    "version": 2
   },
   "file_extension": ".py",
   "mimetype": "text/x-python",
   "name": "python",
   "nbconvert_exporter": "python",
   "pygments_lexer": "ipython2",
   "version": "2.7.6"
  }
 },
 "nbformat": 4,
 "nbformat_minor": 0
}
